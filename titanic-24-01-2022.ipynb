{
 "cells": [
  {
   "cell_type": "code",
   "execution_count": 1,
   "id": "c0c08923",
   "metadata": {
    "_cell_guid": "b1076dfc-b9ad-4769-8c92-a6c4dae69d19",
    "_uuid": "8f2839f25d086af736a60e9eeb907d3b93b6e0e5",
    "execution": {
     "iopub.execute_input": "2022-01-26T00:21:02.005384Z",
     "iopub.status.busy": "2022-01-26T00:21:02.004211Z",
     "iopub.status.idle": "2022-01-26T00:21:03.399020Z",
     "shell.execute_reply": "2022-01-26T00:21:03.399634Z",
     "shell.execute_reply.started": "2022-01-26T00:20:03.225042Z"
    },
    "papermill": {
     "duration": 1.439244,
     "end_time": "2022-01-26T00:21:03.399958",
     "exception": false,
     "start_time": "2022-01-26T00:21:01.960714",
     "status": "completed"
    },
    "tags": []
   },
   "outputs": [
    {
     "name": "stdout",
     "output_type": "stream",
     "text": [
      "/kaggle/input/titanic/train.csv\n",
      "/kaggle/input/titanic/test.csv\n",
      "/kaggle/input/titanic/gender_submission.csv\n"
     ]
    }
   ],
   "source": [
    "import numpy as np # linear algebra\n",
    "import pandas as pd # data processing, CSV file I/O (e.g. pd.read_csv)\n",
    "\n",
    "import matplotlib.pyplot as plt\n",
    "from pylab import rcParams\n",
    "\n",
    "import sklearn\n",
    "from sklearn.linear_model import LinearRegression\n",
    "from sklearn.linear_model import LogisticRegression\n",
    "from sklearn.preprocessing import scale\n",
    "from sklearn.preprocessing import LabelEncoder\n",
    "from sklearn.preprocessing import OneHotEncoder\n",
    "from sklearn.model_selection import train_test_split\n",
    "from sklearn.model_selection import cross_val_predict\n",
    "from sklearn.metrics import classification_report\n",
    "from sklearn.metrics import confusion_matrix\n",
    "from sklearn.metrics import precision_score\n",
    "from sklearn.ensemble import VotingClassifier\n",
    "\n",
    "import seaborn as sb\n",
    "sb.set_style('whitegrid')\n",
    "from collections import Counter\n",
    "\n",
    "import os\n",
    "for dirname, _, filenames in os.walk('/kaggle/input'):\n",
    "    for filename in filenames:\n",
    "        print(os.path.join(dirname, filename))"
   ]
  },
  {
   "cell_type": "code",
   "execution_count": 2,
   "id": "d4a0d1fb",
   "metadata": {
    "execution": {
     "iopub.execute_input": "2022-01-26T00:21:03.481353Z",
     "iopub.status.busy": "2022-01-26T00:21:03.480442Z",
     "iopub.status.idle": "2022-01-26T00:21:03.521363Z",
     "shell.execute_reply": "2022-01-26T00:21:03.521928Z",
     "shell.execute_reply.started": "2022-01-26T00:20:03.365844Z"
    },
    "papermill": {
     "duration": 0.08267,
     "end_time": "2022-01-26T00:21:03.522095",
     "exception": false,
     "start_time": "2022-01-26T00:21:03.439425",
     "status": "completed"
    },
    "tags": []
   },
   "outputs": [],
   "source": [
    "train_path = '/kaggle/input/titanic/train.csv'\n",
    "test_path = '/kaggle/input/titanic/test.csv'\n",
    "submission_path = '/kaggle/input/titanic/gender_submission.csv'\n",
    "\n",
    "train_df = pd.read_csv(train_path)\n",
    "test_df = pd.read_csv(test_path)\n",
    "submission_df = pd.read_csv(submission_path)"
   ]
  },
  {
   "cell_type": "code",
   "execution_count": 3,
   "id": "1a811188",
   "metadata": {
    "execution": {
     "iopub.execute_input": "2022-01-26T00:21:03.602839Z",
     "iopub.status.busy": "2022-01-26T00:21:03.602203Z",
     "iopub.status.idle": "2022-01-26T00:21:03.606492Z",
     "shell.execute_reply": "2022-01-26T00:21:03.607088Z",
     "shell.execute_reply.started": "2022-01-26T00:20:03.386980Z"
    },
    "papermill": {
     "duration": 0.045979,
     "end_time": "2022-01-26T00:21:03.607236",
     "exception": false,
     "start_time": "2022-01-26T00:21:03.561257",
     "status": "completed"
    },
    "tags": []
   },
   "outputs": [],
   "source": [
    "%matplotlib inline\n",
    "rcParams['figure.figsize'] = 5, 4"
   ]
  },
  {
   "cell_type": "markdown",
   "id": "13011a69",
   "metadata": {
    "papermill": {
     "duration": 0.037588,
     "end_time": "2022-01-26T00:21:03.683709",
     "exception": false,
     "start_time": "2022-01-26T00:21:03.646121",
     "status": "completed"
    },
    "tags": []
   },
   "source": [
    "#### Checking that my target var is binary (2 features)"
   ]
  },
  {
   "cell_type": "code",
   "execution_count": 4,
   "id": "5c2ca398",
   "metadata": {
    "execution": {
     "iopub.execute_input": "2022-01-26T00:21:03.765722Z",
     "iopub.status.busy": "2022-01-26T00:21:03.765041Z",
     "iopub.status.idle": "2022-01-26T00:21:03.936111Z",
     "shell.execute_reply": "2022-01-26T00:21:03.936856Z",
     "shell.execute_reply.started": "2022-01-26T00:20:03.394963Z"
    },
    "papermill": {
     "duration": 0.213666,
     "end_time": "2022-01-26T00:21:03.937067",
     "exception": false,
     "start_time": "2022-01-26T00:21:03.723401",
     "status": "completed"
    },
    "tags": []
   },
   "outputs": [
    {
     "data": {
      "text/plain": [
       "<AxesSubplot:xlabel='Survived', ylabel='count'>"
      ]
     },
     "execution_count": 4,
     "metadata": {},
     "output_type": "execute_result"
    },
    {
     "data": {
      "image/png": "[encoded data removed]",
      "text/plain": [
       "<Figure size 360x288 with 1 Axes>"
      ]
     },
     "metadata": {
      "needs_background": "light"
     },
     "output_type": "display_data"
    }
   ],
   "source": [
    "sb.countplot(x='Survived',data=train_df)"
   ]
  },
  {
   "cell_type": "code",
   "execution_count": 5,
   "id": "a9ffa9c6",
   "metadata": {
    "execution": {
     "iopub.execute_input": "2022-01-26T00:21:04.014509Z",
     "iopub.status.busy": "2022-01-26T00:21:04.014013Z",
     "iopub.status.idle": "2022-01-26T00:21:04.017377Z",
     "shell.execute_reply": "2022-01-26T00:21:04.017791Z",
     "shell.execute_reply.started": "2022-01-26T00:20:03.601625Z"
    },
    "papermill": {
     "duration": 0.044673,
     "end_time": "2022-01-26T00:21:04.017966",
     "exception": false,
     "start_time": "2022-01-26T00:21:03.973293",
     "status": "completed"
    },
    "tags": []
   },
   "outputs": [
    {
     "name": "stdout",
     "output_type": "stream",
     "text": [
      "<class 'pandas.core.frame.DataFrame'>\n",
      "RangeIndex: 891 entries, 0 to 890\n",
      "Data columns (total 12 columns):\n",
      " #   Column       Non-Null Count  Dtype  \n",
      "---  ------       --------------  -----  \n",
      " 0   PassengerId  891 non-null    int64  \n",
      " 1   Survived     891 non-null    int64  \n",
      " 2   Pclass       891 non-null    int64  \n",
      " 3   Name         891 non-null    object \n",
      " 4   Sex          891 non-null    object \n",
      " 5   Age          714 non-null    float64\n",
      " 6   SibSp        891 non-null    int64  \n",
      " 7   Parch        891 non-null    int64  \n",
      " 8   Ticket       891 non-null    object \n",
      " 9   Fare         891 non-null    float64\n",
      " 10  Cabin        204 non-null    object \n",
      " 11  Embarked     889 non-null    object \n",
      "dtypes: float64(2), int64(5), object(5)\n",
      "memory usage: 83.7+ KB\n"
     ]
    }
   ],
   "source": [
    "train_df.info()"
   ]
  },
  {
   "cell_type": "code",
   "execution_count": 6,
   "id": "dd1d4f7c",
   "metadata": {
    "execution": {
     "iopub.execute_input": "2022-01-26T00:21:04.073432Z",
     "iopub.status.busy": "2022-01-26T00:21:04.072797Z",
     "iopub.status.idle": "2022-01-26T00:21:04.082041Z",
     "shell.execute_reply": "2022-01-26T00:21:04.082419Z",
     "shell.execute_reply.started": "2022-01-26T00:20:03.622198Z"
    },
    "papermill": {
     "duration": 0.038387,
     "end_time": "2022-01-26T00:21:04.082620",
     "exception": false,
     "start_time": "2022-01-26T00:21:04.044233",
     "status": "completed"
    },
    "tags": []
   },
   "outputs": [
    {
     "data": {
      "text/plain": [
       "PassengerId      0\n",
       "Survived         0\n",
       "Pclass           0\n",
       "Name             0\n",
       "Sex              0\n",
       "Age            177\n",
       "SibSp            0\n",
       "Parch            0\n",
       "Ticket           0\n",
       "Fare             0\n",
       "Cabin          687\n",
       "Embarked         2\n",
       "dtype: int64"
      ]
     },
     "execution_count": 6,
     "metadata": {},
     "output_type": "execute_result"
    }
   ],
   "source": [
    "# It looks like there is missing values. Let's check it (Age,Cabin,Embarked)\n",
    "train_df.isnull().sum()"
   ]
  },
  {
   "cell_type": "code",
   "execution_count": 7,
   "id": "b71958af",
   "metadata": {
    "execution": {
     "iopub.execute_input": "2022-01-26T00:21:04.138704Z",
     "iopub.status.busy": "2022-01-26T00:21:04.138237Z",
     "iopub.status.idle": "2022-01-26T00:21:04.172426Z",
     "shell.execute_reply": "2022-01-26T00:21:04.171912Z",
     "shell.execute_reply.started": "2022-01-26T00:20:03.638912Z"
    },
    "papermill": {
     "duration": 0.063293,
     "end_time": "2022-01-26T00:21:04.172548",
     "exception": false,
     "start_time": "2022-01-26T00:21:04.109255",
     "status": "completed"
    },
    "tags": []
   },
   "outputs": [
    {
     "data": {
      "text/html": [
       "<div>\n",
       "<style scoped>\n",
       "    .dataframe tbody tr th:only-of-type {\n",
       "        vertical-align: middle;\n",
       "    }\n",
       "\n",
       "    .dataframe tbody tr th {\n",
       "        vertical-align: top;\n",
       "    }\n",
       "\n",
       "    .dataframe thead th {\n",
       "        text-align: right;\n",
       "    }\n",
       "</style>\n",
       "<table border=\"1\" class=\"dataframe\">\n",
       "  <thead>\n",
       "    <tr style=\"text-align: right;\">\n",
       "      <th></th>\n",
       "      <th>PassengerId</th>\n",
       "      <th>Survived</th>\n",
       "      <th>Pclass</th>\n",
       "      <th>Age</th>\n",
       "      <th>SibSp</th>\n",
       "      <th>Parch</th>\n",
       "      <th>Fare</th>\n",
       "    </tr>\n",
       "  </thead>\n",
       "  <tbody>\n",
       "    <tr>\n",
       "      <th>count</th>\n",
       "      <td>891.000000</td>\n",
       "      <td>891.000000</td>\n",
       "      <td>891.000000</td>\n",
       "      <td>714.000000</td>\n",
       "      <td>891.000000</td>\n",
       "      <td>891.000000</td>\n",
       "      <td>891.000000</td>\n",
       "    </tr>\n",
       "    <tr>\n",
       "      <th>mean</th>\n",
       "      <td>446.000000</td>\n",
       "      <td>0.383838</td>\n",
       "      <td>2.308642</td>\n",
       "      <td>29.699118</td>\n",
       "      <td>0.523008</td>\n",
       "      <td>0.381594</td>\n",
       "      <td>32.204208</td>\n",
       "    </tr>\n",
       "    <tr>\n",
       "      <th>std</th>\n",
       "      <td>257.353842</td>\n",
       "      <td>0.486592</td>\n",
       "      <td>0.836071</td>\n",
       "      <td>14.526497</td>\n",
       "      <td>1.102743</td>\n",
       "      <td>0.806057</td>\n",
       "      <td>49.693429</td>\n",
       "    </tr>\n",
       "    <tr>\n",
       "      <th>min</th>\n",
       "      <td>1.000000</td>\n",
       "      <td>0.000000</td>\n",
       "      <td>1.000000</td>\n",
       "      <td>0.420000</td>\n",
       "      <td>0.000000</td>\n",
       "      <td>0.000000</td>\n",
       "      <td>0.000000</td>\n",
       "    </tr>\n",
       "    <tr>\n",
       "      <th>25%</th>\n",
       "      <td>223.500000</td>\n",
       "      <td>0.000000</td>\n",
       "      <td>2.000000</td>\n",
       "      <td>20.125000</td>\n",
       "      <td>0.000000</td>\n",
       "      <td>0.000000</td>\n",
       "      <td>7.910400</td>\n",
       "    </tr>\n",
       "    <tr>\n",
       "      <th>50%</th>\n",
       "      <td>446.000000</td>\n",
       "      <td>0.000000</td>\n",
       "      <td>3.000000</td>\n",
       "      <td>28.000000</td>\n",
       "      <td>0.000000</td>\n",
       "      <td>0.000000</td>\n",
       "      <td>14.454200</td>\n",
       "    </tr>\n",
       "    <tr>\n",
       "      <th>75%</th>\n",
       "      <td>668.500000</td>\n",
       "      <td>1.000000</td>\n",
       "      <td>3.000000</td>\n",
       "      <td>38.000000</td>\n",
       "      <td>1.000000</td>\n",
       "      <td>0.000000</td>\n",
       "      <td>31.000000</td>\n",
       "    </tr>\n",
       "    <tr>\n",
       "      <th>max</th>\n",
       "      <td>891.000000</td>\n",
       "      <td>1.000000</td>\n",
       "      <td>3.000000</td>\n",
       "      <td>80.000000</td>\n",
       "      <td>8.000000</td>\n",
       "      <td>6.000000</td>\n",
       "      <td>512.329200</td>\n",
       "    </tr>\n",
       "  </tbody>\n",
       "</table>\n",
       "</div>"
      ],
      "text/plain": [
       "       PassengerId    Survived      Pclass         Age       SibSp  \\\n",
       "count   891.000000  891.000000  891.000000  714.000000  891.000000   \n",
       "mean    446.000000    0.383838    2.308642   29.699118    0.523008   \n",
       "std     257.353842    0.486592    0.836071   14.526497    1.102743   \n",
       "min       1.000000    0.000000    1.000000    0.420000    0.000000   \n",
       "25%     223.500000    0.000000    2.000000   20.125000    0.000000   \n",
       "50%     446.000000    0.000000    3.000000   28.000000    0.000000   \n",
       "75%     668.500000    1.000000    3.000000   38.000000    1.000000   \n",
       "max     891.000000    1.000000    3.000000   80.000000    8.000000   \n",
       "\n",
       "            Parch        Fare  \n",
       "count  891.000000  891.000000  \n",
       "mean     0.381594   32.204208  \n",
       "std      0.806057   49.693429  \n",
       "min      0.000000    0.000000  \n",
       "25%      0.000000    7.910400  \n",
       "50%      0.000000   14.454200  \n",
       "75%      0.000000   31.000000  \n",
       "max      6.000000  512.329200  "
      ]
     },
     "execution_count": 7,
     "metadata": {},
     "output_type": "execute_result"
    }
   ],
   "source": [
    "train_df.describe()"
   ]
  },
  {
   "cell_type": "markdown",
   "id": "3102b5d1",
   "metadata": {
    "papermill": {
     "duration": 0.026745,
     "end_time": "2022-01-26T00:21:04.226502",
     "exception": false,
     "start_time": "2022-01-26T00:21:04.199757",
     "status": "completed"
    },
    "tags": []
   },
   "source": [
    "#### Taking care of missing values"
   ]
  },
  {
   "cell_type": "code",
   "execution_count": 8,
   "id": "e13ab6c6",
   "metadata": {
    "execution": {
     "iopub.execute_input": "2022-01-26T00:21:04.285555Z",
     "iopub.status.busy": "2022-01-26T00:21:04.285052Z",
     "iopub.status.idle": "2022-01-26T00:21:04.582913Z",
     "shell.execute_reply": "2022-01-26T00:21:04.582479Z",
     "shell.execute_reply.started": "2022-01-26T00:20:03.798379Z"
    },
    "papermill": {
     "duration": 0.330016,
     "end_time": "2022-01-26T00:21:04.583031",
     "exception": false,
     "start_time": "2022-01-26T00:21:04.253015",
     "status": "completed"
    },
    "tags": []
   },
   "outputs": [
    {
     "data": {
      "text/plain": [
       "<AxesSubplot:xlabel='Parch', ylabel='Age'>"
      ]
     },
     "execution_count": 8,
     "metadata": {},
     "output_type": "execute_result"
    },
    {
     "data": {
      "image/png": "[encoded data removed]",
      "text/plain": [
       "<Figure size 360x288 with 1 Axes>"
      ]
     },
     "metadata": {
      "needs_background": "light"
     },
     "output_type": "display_data"
    }
   ],
   "source": [
    "# First of all, Age. If we compare it against Parch we get that we can approximate the missing Age rows with the Parch (parents/children)\n",
    "sb.boxplot(x='Parch',y='Age',data=train_df,palette='hls')"
   ]
  },
  {
   "cell_type": "code",
   "execution_count": 9,
   "id": "ac1d7b28",
   "metadata": {
    "execution": {
     "iopub.execute_input": "2022-01-26T00:21:04.642074Z",
     "iopub.status.busy": "2022-01-26T00:21:04.641568Z",
     "iopub.status.idle": "2022-01-26T00:21:04.924361Z",
     "shell.execute_reply": "2022-01-26T00:21:04.923975Z",
     "shell.execute_reply.started": "2022-01-26T00:20:04.141882Z"
    },
    "papermill": {
     "duration": 0.314145,
     "end_time": "2022-01-26T00:21:04.924466",
     "exception": false,
     "start_time": "2022-01-26T00:21:04.610321",
     "status": "completed"
    },
    "tags": []
   },
   "outputs": [
    {
     "data": {
      "text/plain": [
       "<AxesSubplot:xlabel='SibSp', ylabel='Age'>"
      ]
     },
     "execution_count": 9,
     "metadata": {},
     "output_type": "execute_result"
    },
    {
     "data": {
      "image/png": "[encoded data removed]",
      "text/plain": [
       "<Figure size 360x288 with 1 Axes>"
      ]
     },
     "metadata": {
      "needs_background": "light"
     },
     "output_type": "display_data"
    }
   ],
   "source": [
    "# And against Siblings and Spouse?\n",
    "sb.boxplot(x='SibSp',y='Age',data=train_df,palette='hls')"
   ]
  },
  {
   "cell_type": "code",
   "execution_count": 10,
   "id": "2150b255",
   "metadata": {
    "execution": {
     "iopub.execute_input": "2022-01-26T00:21:04.999585Z",
     "iopub.status.busy": "2022-01-26T00:21:04.998994Z",
     "iopub.status.idle": "2022-01-26T00:21:05.003894Z",
     "shell.execute_reply": "2022-01-26T00:21:05.003350Z",
     "shell.execute_reply.started": "2022-01-26T00:20:04.426597Z"
    },
    "papermill": {
     "duration": 0.051611,
     "end_time": "2022-01-26T00:21:05.004010",
     "exception": false,
     "start_time": "2022-01-26T00:21:04.952399",
     "status": "completed"
    },
    "tags": []
   },
   "outputs": [
    {
     "data": {
      "text/html": [
       "<div>\n",
       "<style scoped>\n",
       "    .dataframe tbody tr th:only-of-type {\n",
       "        vertical-align: middle;\n",
       "    }\n",
       "\n",
       "    .dataframe tbody tr th {\n",
       "        vertical-align: top;\n",
       "    }\n",
       "\n",
       "    .dataframe thead th {\n",
       "        text-align: right;\n",
       "    }\n",
       "</style>\n",
       "<table border=\"1\" class=\"dataframe\">\n",
       "  <thead>\n",
       "    <tr style=\"text-align: right;\">\n",
       "      <th></th>\n",
       "      <th>PassengerId</th>\n",
       "      <th>Survived</th>\n",
       "      <th>Pclass</th>\n",
       "      <th>Age</th>\n",
       "      <th>SibSp</th>\n",
       "      <th>Fare</th>\n",
       "    </tr>\n",
       "    <tr>\n",
       "      <th>Parch</th>\n",
       "      <th></th>\n",
       "      <th></th>\n",
       "      <th></th>\n",
       "      <th></th>\n",
       "      <th></th>\n",
       "      <th></th>\n",
       "    </tr>\n",
       "  </thead>\n",
       "  <tbody>\n",
       "    <tr>\n",
       "      <th>0</th>\n",
       "      <td>445.255162</td>\n",
       "      <td>0.343658</td>\n",
       "      <td>2.321534</td>\n",
       "      <td>32.178503</td>\n",
       "      <td>0.237463</td>\n",
       "      <td>25.586774</td>\n",
       "    </tr>\n",
       "    <tr>\n",
       "      <th>1</th>\n",
       "      <td>465.110169</td>\n",
       "      <td>0.550847</td>\n",
       "      <td>2.203390</td>\n",
       "      <td>24.422000</td>\n",
       "      <td>1.084746</td>\n",
       "      <td>46.778180</td>\n",
       "    </tr>\n",
       "    <tr>\n",
       "      <th>2</th>\n",
       "      <td>416.662500</td>\n",
       "      <td>0.500000</td>\n",
       "      <td>2.275000</td>\n",
       "      <td>17.216912</td>\n",
       "      <td>2.062500</td>\n",
       "      <td>64.337604</td>\n",
       "    </tr>\n",
       "    <tr>\n",
       "      <th>3</th>\n",
       "      <td>579.200000</td>\n",
       "      <td>0.600000</td>\n",
       "      <td>2.600000</td>\n",
       "      <td>33.200000</td>\n",
       "      <td>1.000000</td>\n",
       "      <td>25.951660</td>\n",
       "    </tr>\n",
       "    <tr>\n",
       "      <th>4</th>\n",
       "      <td>384.000000</td>\n",
       "      <td>0.000000</td>\n",
       "      <td>2.500000</td>\n",
       "      <td>44.500000</td>\n",
       "      <td>0.750000</td>\n",
       "      <td>84.968750</td>\n",
       "    </tr>\n",
       "    <tr>\n",
       "      <th>5</th>\n",
       "      <td>435.200000</td>\n",
       "      <td>0.200000</td>\n",
       "      <td>3.000000</td>\n",
       "      <td>39.200000</td>\n",
       "      <td>0.600000</td>\n",
       "      <td>32.550000</td>\n",
       "    </tr>\n",
       "    <tr>\n",
       "      <th>6</th>\n",
       "      <td>679.000000</td>\n",
       "      <td>0.000000</td>\n",
       "      <td>3.000000</td>\n",
       "      <td>43.000000</td>\n",
       "      <td>1.000000</td>\n",
       "      <td>46.900000</td>\n",
       "    </tr>\n",
       "  </tbody>\n",
       "</table>\n",
       "</div>"
      ],
      "text/plain": [
       "       PassengerId  Survived    Pclass        Age     SibSp       Fare\n",
       "Parch                                                                 \n",
       "0       445.255162  0.343658  2.321534  32.178503  0.237463  25.586774\n",
       "1       465.110169  0.550847  2.203390  24.422000  1.084746  46.778180\n",
       "2       416.662500  0.500000  2.275000  17.216912  2.062500  64.337604\n",
       "3       579.200000  0.600000  2.600000  33.200000  1.000000  25.951660\n",
       "4       384.000000  0.000000  2.500000  44.500000  0.750000  84.968750\n",
       "5       435.200000  0.200000  3.000000  39.200000  0.600000  32.550000\n",
       "6       679.000000  0.000000  3.000000  43.000000  1.000000  46.900000"
      ]
     },
     "execution_count": 10,
     "metadata": {},
     "output_type": "execute_result"
    }
   ],
   "source": [
    "parch_age = train_df.groupby('Parch')\n",
    "parch_age.mean()"
   ]
  },
  {
   "cell_type": "code",
   "execution_count": 11,
   "id": "3d042bba",
   "metadata": {
    "execution": {
     "iopub.execute_input": "2022-01-26T00:21:05.069951Z",
     "iopub.status.busy": "2022-01-26T00:21:05.065582Z",
     "iopub.status.idle": "2022-01-26T00:21:05.073170Z",
     "shell.execute_reply": "2022-01-26T00:21:05.072469Z",
     "shell.execute_reply.started": "2022-01-26T00:20:04.448290Z"
    },
    "papermill": {
     "duration": 0.03993,
     "end_time": "2022-01-26T00:21:05.073284",
     "exception": false,
     "start_time": "2022-01-26T00:21:05.033354",
     "status": "completed"
    },
    "tags": []
   },
   "outputs": [],
   "source": [
    "def age_approx(col):\n",
    "    Age = col[0]\n",
    "    Parch = col[1]\n",
    "    \n",
    "    if pd.isnull(Age):\n",
    "        if Parch == 0:\n",
    "            return 32\n",
    "        elif Parch == 1:\n",
    "            return 24\n",
    "        elif Parch == 2:\n",
    "            return 17\n",
    "        elif Parch == 3:\n",
    "            return 33\n",
    "        elif Parch == 4:\n",
    "            return 45\n",
    "        else:\n",
    "            return 30\n",
    "    else:\n",
    "        return Age"
   ]
  },
  {
   "cell_type": "code",
   "execution_count": 12,
   "id": "d92a52e2",
   "metadata": {
    "execution": {
     "iopub.execute_input": "2022-01-26T00:21:05.157561Z",
     "iopub.status.busy": "2022-01-26T00:21:05.133162Z",
     "iopub.status.idle": "2022-01-26T00:21:05.160836Z",
     "shell.execute_reply": "2022-01-26T00:21:05.160312Z",
     "shell.execute_reply.started": "2022-01-26T00:20:04.457876Z"
    },
    "papermill": {
     "duration": 0.059487,
     "end_time": "2022-01-26T00:21:05.160986",
     "exception": false,
     "start_time": "2022-01-26T00:21:05.101499",
     "status": "completed"
    },
    "tags": []
   },
   "outputs": [
    {
     "data": {
      "text/plain": [
       "PassengerId      0\n",
       "Survived         0\n",
       "Pclass           0\n",
       "Name             0\n",
       "Sex              0\n",
       "Age              0\n",
       "SibSp            0\n",
       "Parch            0\n",
       "Ticket           0\n",
       "Fare             0\n",
       "Cabin          687\n",
       "Embarked         2\n",
       "dtype: int64"
      ]
     },
     "execution_count": 12,
     "metadata": {},
     "output_type": "execute_result"
    }
   ],
   "source": [
    "train_df['Age'] = train_df[['Age','Parch']].apply(age_approx,axis=1)\n",
    "train_df.isnull().sum()"
   ]
  },
  {
   "cell_type": "markdown",
   "id": "3f4a96cd",
   "metadata": {
    "papermill": {
     "duration": 0.04339,
     "end_time": "2022-01-26T00:21:05.248564",
     "exception": false,
     "start_time": "2022-01-26T00:21:05.205174",
     "status": "completed"
    },
    "tags": []
   },
   "source": [
    "#### Dropping unnecesary values such as \"ticket or cabin\" and NaN rows"
   ]
  },
  {
   "cell_type": "code",
   "execution_count": 13,
   "id": "9668a196",
   "metadata": {
    "execution": {
     "iopub.execute_input": "2022-01-26T00:21:05.338636Z",
     "iopub.status.busy": "2022-01-26T00:21:05.338050Z",
     "iopub.status.idle": "2022-01-26T00:21:05.350307Z",
     "shell.execute_reply": "2022-01-26T00:21:05.350825Z",
     "shell.execute_reply.started": "2022-01-26T00:20:04.491714Z"
    },
    "papermill": {
     "duration": 0.058653,
     "end_time": "2022-01-26T00:21:05.351014",
     "exception": false,
     "start_time": "2022-01-26T00:21:05.292361",
     "status": "completed"
    },
    "tags": []
   },
   "outputs": [
    {
     "name": "stdout",
     "output_type": "stream",
     "text": [
      "<class 'pandas.core.frame.DataFrame'>\n",
      "RangeIndex: 889 entries, 0 to 888\n",
      "Data columns (total 10 columns):\n",
      " #   Column       Non-Null Count  Dtype  \n",
      "---  ------       --------------  -----  \n",
      " 0   PassengerId  889 non-null    int64  \n",
      " 1   Survived     889 non-null    int64  \n",
      " 2   Pclass       889 non-null    int64  \n",
      " 3   Name         889 non-null    object \n",
      " 4   Sex          889 non-null    object \n",
      " 5   Age          889 non-null    float64\n",
      " 6   SibSp        889 non-null    int64  \n",
      " 7   Parch        889 non-null    int64  \n",
      " 8   Fare         889 non-null    float64\n",
      " 9   Embarked     889 non-null    object \n",
      "dtypes: float64(2), int64(5), object(3)\n",
      "memory usage: 69.6+ KB\n",
      "None\n"
     ]
    }
   ],
   "source": [
    "# I don't really see any impact on survival rate with these 2 features\n",
    "train_df = train_df.drop(['Ticket','Cabin'], axis=1)\n",
    "\n",
    "# Since it's only 2 values missing from Embarked we can drop them\n",
    "train_df.dropna(inplace=True)\n",
    "# In order to have an accurate index we should reset it\n",
    "train_df.reset_index(inplace=True,drop=True)\n",
    "\n",
    "print(train_df.info())"
   ]
  },
  {
   "cell_type": "markdown",
   "id": "74c048cd",
   "metadata": {
    "papermill": {
     "duration": 0.044034,
     "end_time": "2022-01-26T00:21:05.439402",
     "exception": false,
     "start_time": "2022-01-26T00:21:05.395368",
     "status": "completed"
    },
    "tags": []
   },
   "source": [
    "#### Converting categorical variables to a dummy indicators"
   ]
  },
  {
   "cell_type": "code",
   "execution_count": 14,
   "id": "fe6dbeed",
   "metadata": {
    "execution": {
     "iopub.execute_input": "2022-01-26T00:21:05.532105Z",
     "iopub.status.busy": "2022-01-26T00:21:05.531425Z",
     "iopub.status.idle": "2022-01-26T00:21:05.535556Z",
     "shell.execute_reply": "2022-01-26T00:21:05.536099Z",
     "shell.execute_reply.started": "2022-01-26T00:20:04.516546Z"
    },
    "papermill": {
     "duration": 0.052295,
     "end_time": "2022-01-26T00:21:05.536266",
     "exception": false,
     "start_time": "2022-01-26T00:21:05.483971",
     "status": "completed"
    },
    "tags": []
   },
   "outputs": [
    {
     "data": {
      "text/plain": [
       "array([1, 0, 0, 0, 1])"
      ]
     },
     "execution_count": 14,
     "metadata": {},
     "output_type": "execute_result"
    }
   ],
   "source": [
    "# from sklearn.preprocessing import LabelEncoder (first line)\n",
    "# 1 - Gender\n",
    "label_encoder = LabelEncoder()\n",
    "gender_cat = train_df['Sex']\n",
    "gender_encoder = label_encoder.fit_transform(gender_cat)\n",
    "gender_encoder[0:5]"
   ]
  },
  {
   "cell_type": "code",
   "execution_count": 15,
   "id": "9a42e482",
   "metadata": {
    "execution": {
     "iopub.execute_input": "2022-01-26T00:21:05.630082Z",
     "iopub.status.busy": "2022-01-26T00:21:05.629433Z",
     "iopub.status.idle": "2022-01-26T00:21:05.639039Z",
     "shell.execute_reply": "2022-01-26T00:21:05.639549Z",
     "shell.execute_reply.started": "2022-01-26T00:20:04.525702Z"
    },
    "papermill": {
     "duration": 0.058318,
     "end_time": "2022-01-26T00:21:05.639707",
     "exception": false,
     "start_time": "2022-01-26T00:21:05.581389",
     "status": "completed"
    },
    "tags": []
   },
   "outputs": [
    {
     "data": {
      "text/html": [
       "<div>\n",
       "<style scoped>\n",
       "    .dataframe tbody tr th:only-of-type {\n",
       "        vertical-align: middle;\n",
       "    }\n",
       "\n",
       "    .dataframe tbody tr th {\n",
       "        vertical-align: top;\n",
       "    }\n",
       "\n",
       "    .dataframe thead th {\n",
       "        text-align: right;\n",
       "    }\n",
       "</style>\n",
       "<table border=\"1\" class=\"dataframe\">\n",
       "  <thead>\n",
       "    <tr style=\"text-align: right;\">\n",
       "      <th></th>\n",
       "      <th>PassengerId</th>\n",
       "      <th>Survived</th>\n",
       "      <th>Pclass</th>\n",
       "      <th>Name</th>\n",
       "      <th>Sex</th>\n",
       "      <th>Age</th>\n",
       "      <th>SibSp</th>\n",
       "      <th>Parch</th>\n",
       "      <th>Fare</th>\n",
       "      <th>Embarked</th>\n",
       "    </tr>\n",
       "  </thead>\n",
       "  <tbody>\n",
       "    <tr>\n",
       "      <th>0</th>\n",
       "      <td>1</td>\n",
       "      <td>0</td>\n",
       "      <td>3</td>\n",
       "      <td>Braund, Mr. Owen Harris</td>\n",
       "      <td>male</td>\n",
       "      <td>22.0</td>\n",
       "      <td>1</td>\n",
       "      <td>0</td>\n",
       "      <td>7.2500</td>\n",
       "      <td>S</td>\n",
       "    </tr>\n",
       "    <tr>\n",
       "      <th>1</th>\n",
       "      <td>2</td>\n",
       "      <td>1</td>\n",
       "      <td>1</td>\n",
       "      <td>Cumings, Mrs. John Bradley (Florence Briggs Th...</td>\n",
       "      <td>female</td>\n",
       "      <td>38.0</td>\n",
       "      <td>1</td>\n",
       "      <td>0</td>\n",
       "      <td>71.2833</td>\n",
       "      <td>C</td>\n",
       "    </tr>\n",
       "    <tr>\n",
       "      <th>2</th>\n",
       "      <td>3</td>\n",
       "      <td>1</td>\n",
       "      <td>3</td>\n",
       "      <td>Heikkinen, Miss. Laina</td>\n",
       "      <td>female</td>\n",
       "      <td>26.0</td>\n",
       "      <td>0</td>\n",
       "      <td>0</td>\n",
       "      <td>7.9250</td>\n",
       "      <td>S</td>\n",
       "    </tr>\n",
       "  </tbody>\n",
       "</table>\n",
       "</div>"
      ],
      "text/plain": [
       "   PassengerId  Survived  Pclass  \\\n",
       "0            1         0       3   \n",
       "1            2         1       1   \n",
       "2            3         1       3   \n",
       "\n",
       "                                                Name     Sex   Age  SibSp  \\\n",
       "0                            Braund, Mr. Owen Harris    male  22.0      1   \n",
       "1  Cumings, Mrs. John Bradley (Florence Briggs Th...  female  38.0      1   \n",
       "2                             Heikkinen, Miss. Laina  female  26.0      0   \n",
       "\n",
       "   Parch     Fare Embarked  \n",
       "0      0   7.2500        S  \n",
       "1      0  71.2833        C  \n",
       "2      0   7.9250        S  "
      ]
     },
     "execution_count": 15,
     "metadata": {},
     "output_type": "execute_result"
    }
   ],
   "source": [
    "# 1 = male, 0 = female\n",
    "train_df.head(3)"
   ]
  },
  {
   "cell_type": "code",
   "execution_count": 16,
   "id": "e8467ff5",
   "metadata": {
    "execution": {
     "iopub.execute_input": "2022-01-26T00:21:05.735748Z",
     "iopub.status.busy": "2022-01-26T00:21:05.735124Z",
     "iopub.status.idle": "2022-01-26T00:21:05.739994Z",
     "shell.execute_reply": "2022-01-26T00:21:05.739418Z",
     "shell.execute_reply.started": "2022-01-26T00:20:04.546721Z"
    },
    "papermill": {
     "duration": 0.053089,
     "end_time": "2022-01-26T00:21:05.740145",
     "exception": false,
     "start_time": "2022-01-26T00:21:05.687056",
     "status": "completed"
    },
    "tags": []
   },
   "outputs": [],
   "source": [
    "# Creating a gender DataFrame\n",
    "gender_df = pd.DataFrame(gender_encoder, columns=['male_gender'])"
   ]
  },
  {
   "cell_type": "code",
   "execution_count": 17,
   "id": "7d6da2c9",
   "metadata": {
    "execution": {
     "iopub.execute_input": "2022-01-26T00:21:05.836499Z",
     "iopub.status.busy": "2022-01-26T00:21:05.835844Z",
     "iopub.status.idle": "2022-01-26T00:21:05.840178Z",
     "shell.execute_reply": "2022-01-26T00:21:05.840776Z",
     "shell.execute_reply.started": "2022-01-26T00:20:04.552459Z"
    },
    "papermill": {
     "duration": 0.053422,
     "end_time": "2022-01-26T00:21:05.840964",
     "exception": false,
     "start_time": "2022-01-26T00:21:05.787542",
     "status": "completed"
    },
    "tags": []
   },
   "outputs": [
    {
     "data": {
      "text/plain": [
       "array([2, 0, 2, 2, 2, 1, 2, 2, 2, 0, 2, 2, 2, 2, 2, 2, 1, 2, 2, 0, 2, 2,\n",
       "       1, 2, 2, 2, 0, 2, 1, 2, 0, 0, 1, 2, 0, 2, 0, 2, 2, 0, 2, 2, 0, 0,\n",
       "       1, 2, 1, 1, 0, 2, 2, 2, 0, 2, 0, 2, 2, 0, 2, 2, 0, 2, 2, 0, 0, 2,\n",
       "       2, 2, 2, 2, 2, 2, 0, 2, 2, 2, 2, 2, 2, 2, 2, 1, 2, 2, 2, 2, 2, 2,\n",
       "       2, 2, 2, 2, 2, 2, 2, 0, 0, 2, 2, 2])"
      ]
     },
     "execution_count": 17,
     "metadata": {},
     "output_type": "execute_result"
    }
   ],
   "source": [
    "# 2 - Embarked\n",
    "embarked_cat = train_df['Embarked']\n",
    "embarked_encoder = label_encoder.fit_transform(embarked_cat)\n",
    "embarked_encoder[0:100]"
   ]
  },
  {
   "cell_type": "code",
   "execution_count": 18,
   "id": "723a8144",
   "metadata": {
    "execution": {
     "iopub.execute_input": "2022-01-26T00:21:05.935335Z",
     "iopub.status.busy": "2022-01-26T00:21:05.934654Z",
     "iopub.status.idle": "2022-01-26T00:21:05.944015Z",
     "shell.execute_reply": "2022-01-26T00:21:05.944545Z",
     "shell.execute_reply.started": "2022-01-26T00:20:04.568296Z"
    },
    "papermill": {
     "duration": 0.058045,
     "end_time": "2022-01-26T00:21:05.944703",
     "exception": false,
     "start_time": "2022-01-26T00:21:05.886658",
     "status": "completed"
    },
    "tags": []
   },
   "outputs": [
    {
     "data": {
      "text/html": [
       "<div>\n",
       "<style scoped>\n",
       "    .dataframe tbody tr th:only-of-type {\n",
       "        vertical-align: middle;\n",
       "    }\n",
       "\n",
       "    .dataframe tbody tr th {\n",
       "        vertical-align: top;\n",
       "    }\n",
       "\n",
       "    .dataframe thead th {\n",
       "        text-align: right;\n",
       "    }\n",
       "</style>\n",
       "<table border=\"1\" class=\"dataframe\">\n",
       "  <thead>\n",
       "    <tr style=\"text-align: right;\">\n",
       "      <th></th>\n",
       "      <th>C</th>\n",
       "      <th>Q</th>\n",
       "      <th>S</th>\n",
       "    </tr>\n",
       "  </thead>\n",
       "  <tbody>\n",
       "    <tr>\n",
       "      <th>0</th>\n",
       "      <td>0.0</td>\n",
       "      <td>0.0</td>\n",
       "      <td>1.0</td>\n",
       "    </tr>\n",
       "    <tr>\n",
       "      <th>1</th>\n",
       "      <td>1.0</td>\n",
       "      <td>0.0</td>\n",
       "      <td>0.0</td>\n",
       "    </tr>\n",
       "    <tr>\n",
       "      <th>2</th>\n",
       "      <td>0.0</td>\n",
       "      <td>0.0</td>\n",
       "      <td>1.0</td>\n",
       "    </tr>\n",
       "    <tr>\n",
       "      <th>3</th>\n",
       "      <td>0.0</td>\n",
       "      <td>0.0</td>\n",
       "      <td>1.0</td>\n",
       "    </tr>\n",
       "    <tr>\n",
       "      <th>4</th>\n",
       "      <td>0.0</td>\n",
       "      <td>0.0</td>\n",
       "      <td>1.0</td>\n",
       "    </tr>\n",
       "  </tbody>\n",
       "</table>\n",
       "</div>"
      ],
      "text/plain": [
       "     C    Q    S\n",
       "0  0.0  0.0  1.0\n",
       "1  1.0  0.0  0.0\n",
       "2  0.0  0.0  1.0\n",
       "3  0.0  0.0  1.0\n",
       "4  0.0  0.0  1.0"
      ]
     },
     "execution_count": 18,
     "metadata": {},
     "output_type": "execute_result"
    }
   ],
   "source": [
    "# We can see 3 numbers corresponding to the 3 ports so this is a multi-nominal var. \n",
    "# We need 'Embarked' to be represented by binary vars: One-Hot Encoder\n",
    "# from sklearn.preprocessing import OneHotEncoder\n",
    "binary_encoder = OneHotEncoder(categories='auto')\n",
    "embarked_1hot = binary_encoder.fit_transform(embarked_encoder.reshape(-1,1)) # reshape to a single col\n",
    "embarked_1hot_mat = embarked_1hot.toarray()\n",
    "embarked_df = pd.DataFrame(embarked_1hot_mat, columns = ['C','Q','S'])\n",
    "embarked_df.head()"
   ]
  },
  {
   "cell_type": "code",
   "execution_count": 19,
   "id": "499983d8",
   "metadata": {
    "execution": {
     "iopub.execute_input": "2022-01-26T00:21:06.041952Z",
     "iopub.status.busy": "2022-01-26T00:21:06.041233Z",
     "iopub.status.idle": "2022-01-26T00:21:06.052172Z",
     "shell.execute_reply": "2022-01-26T00:21:06.052685Z",
     "shell.execute_reply.started": "2022-01-26T00:20:04.588288Z"
    },
    "papermill": {
     "duration": 0.062575,
     "end_time": "2022-01-26T00:21:06.052854",
     "exception": false,
     "start_time": "2022-01-26T00:21:05.990279",
     "status": "completed"
    },
    "tags": []
   },
   "outputs": [
    {
     "data": {
      "text/html": [
       "<div>\n",
       "<style scoped>\n",
       "    .dataframe tbody tr th:only-of-type {\n",
       "        vertical-align: middle;\n",
       "    }\n",
       "\n",
       "    .dataframe tbody tr th {\n",
       "        vertical-align: top;\n",
       "    }\n",
       "\n",
       "    .dataframe thead th {\n",
       "        text-align: right;\n",
       "    }\n",
       "</style>\n",
       "<table border=\"1\" class=\"dataframe\">\n",
       "  <thead>\n",
       "    <tr style=\"text-align: right;\">\n",
       "      <th></th>\n",
       "      <th>PassengerId</th>\n",
       "      <th>Survived</th>\n",
       "      <th>Pclass</th>\n",
       "      <th>Name</th>\n",
       "      <th>Age</th>\n",
       "      <th>SibSp</th>\n",
       "      <th>Parch</th>\n",
       "      <th>Fare</th>\n",
       "    </tr>\n",
       "  </thead>\n",
       "  <tbody>\n",
       "    <tr>\n",
       "      <th>0</th>\n",
       "      <td>1</td>\n",
       "      <td>0</td>\n",
       "      <td>3</td>\n",
       "      <td>Braund, Mr. Owen Harris</td>\n",
       "      <td>22.0</td>\n",
       "      <td>1</td>\n",
       "      <td>0</td>\n",
       "      <td>7.2500</td>\n",
       "    </tr>\n",
       "    <tr>\n",
       "      <th>1</th>\n",
       "      <td>2</td>\n",
       "      <td>1</td>\n",
       "      <td>1</td>\n",
       "      <td>Cumings, Mrs. John Bradley (Florence Briggs Th...</td>\n",
       "      <td>38.0</td>\n",
       "      <td>1</td>\n",
       "      <td>0</td>\n",
       "      <td>71.2833</td>\n",
       "    </tr>\n",
       "    <tr>\n",
       "      <th>2</th>\n",
       "      <td>3</td>\n",
       "      <td>1</td>\n",
       "      <td>3</td>\n",
       "      <td>Heikkinen, Miss. Laina</td>\n",
       "      <td>26.0</td>\n",
       "      <td>0</td>\n",
       "      <td>0</td>\n",
       "      <td>7.9250</td>\n",
       "    </tr>\n",
       "    <tr>\n",
       "      <th>3</th>\n",
       "      <td>4</td>\n",
       "      <td>1</td>\n",
       "      <td>1</td>\n",
       "      <td>Futrelle, Mrs. Jacques Heath (Lily May Peel)</td>\n",
       "      <td>35.0</td>\n",
       "      <td>1</td>\n",
       "      <td>0</td>\n",
       "      <td>53.1000</td>\n",
       "    </tr>\n",
       "    <tr>\n",
       "      <th>4</th>\n",
       "      <td>5</td>\n",
       "      <td>0</td>\n",
       "      <td>3</td>\n",
       "      <td>Allen, Mr. William Henry</td>\n",
       "      <td>35.0</td>\n",
       "      <td>0</td>\n",
       "      <td>0</td>\n",
       "      <td>8.0500</td>\n",
       "    </tr>\n",
       "  </tbody>\n",
       "</table>\n",
       "</div>"
      ],
      "text/plain": [
       "   PassengerId  Survived  Pclass  \\\n",
       "0            1         0       3   \n",
       "1            2         1       1   \n",
       "2            3         1       3   \n",
       "3            4         1       1   \n",
       "4            5         0       3   \n",
       "\n",
       "                                                Name   Age  SibSp  Parch  \\\n",
       "0                            Braund, Mr. Owen Harris  22.0      1      0   \n",
       "1  Cumings, Mrs. John Bradley (Florence Briggs Th...  38.0      1      0   \n",
       "2                             Heikkinen, Miss. Laina  26.0      0      0   \n",
       "3       Futrelle, Mrs. Jacques Heath (Lily May Peel)  35.0      1      0   \n",
       "4                           Allen, Mr. William Henry  35.0      0      0   \n",
       "\n",
       "      Fare  \n",
       "0   7.2500  \n",
       "1  71.2833  \n",
       "2   7.9250  \n",
       "3  53.1000  \n",
       "4   8.0500  "
      ]
     },
     "execution_count": 19,
     "metadata": {},
     "output_type": "execute_result"
    }
   ],
   "source": [
    "# We don't need anymore the orignial Titanic df with sex and embarked\n",
    "train_df.drop(['Sex','Embarked'], axis=1, inplace=True)\n",
    "train_df.head()"
   ]
  },
  {
   "cell_type": "code",
   "execution_count": 20,
   "id": "844f9093",
   "metadata": {
    "execution": {
     "iopub.execute_input": "2022-01-26T00:21:06.152843Z",
     "iopub.status.busy": "2022-01-26T00:21:06.152194Z",
     "iopub.status.idle": "2022-01-26T00:21:06.164581Z",
     "shell.execute_reply": "2022-01-26T00:21:06.165082Z",
     "shell.execute_reply.started": "2022-01-26T00:20:04.606816Z"
    },
    "papermill": {
     "duration": 0.06597,
     "end_time": "2022-01-26T00:21:06.165252",
     "exception": false,
     "start_time": "2022-01-26T00:21:06.099282",
     "status": "completed"
    },
    "tags": []
   },
   "outputs": [
    {
     "data": {
      "text/html": [
       "<div>\n",
       "<style scoped>\n",
       "    .dataframe tbody tr th:only-of-type {\n",
       "        vertical-align: middle;\n",
       "    }\n",
       "\n",
       "    .dataframe tbody tr th {\n",
       "        vertical-align: top;\n",
       "    }\n",
       "\n",
       "    .dataframe thead th {\n",
       "        text-align: right;\n",
       "    }\n",
       "</style>\n",
       "<table border=\"1\" class=\"dataframe\">\n",
       "  <thead>\n",
       "    <tr style=\"text-align: right;\">\n",
       "      <th></th>\n",
       "      <th>PassengerId</th>\n",
       "      <th>Survived</th>\n",
       "      <th>Pclass</th>\n",
       "      <th>Name</th>\n",
       "      <th>Age</th>\n",
       "      <th>SibSp</th>\n",
       "      <th>Parch</th>\n",
       "      <th>Fare</th>\n",
       "      <th>male_gender</th>\n",
       "      <th>C</th>\n",
       "      <th>Q</th>\n",
       "      <th>S</th>\n",
       "    </tr>\n",
       "  </thead>\n",
       "  <tbody>\n",
       "    <tr>\n",
       "      <th>0</th>\n",
       "      <td>1</td>\n",
       "      <td>0</td>\n",
       "      <td>3</td>\n",
       "      <td>Braund, Mr. Owen Harris</td>\n",
       "      <td>22.0</td>\n",
       "      <td>1</td>\n",
       "      <td>0</td>\n",
       "      <td>7.2500</td>\n",
       "      <td>1</td>\n",
       "      <td>0.0</td>\n",
       "      <td>0.0</td>\n",
       "      <td>1.0</td>\n",
       "    </tr>\n",
       "    <tr>\n",
       "      <th>1</th>\n",
       "      <td>2</td>\n",
       "      <td>1</td>\n",
       "      <td>1</td>\n",
       "      <td>Cumings, Mrs. John Bradley (Florence Briggs Th...</td>\n",
       "      <td>38.0</td>\n",
       "      <td>1</td>\n",
       "      <td>0</td>\n",
       "      <td>71.2833</td>\n",
       "      <td>0</td>\n",
       "      <td>1.0</td>\n",
       "      <td>0.0</td>\n",
       "      <td>0.0</td>\n",
       "    </tr>\n",
       "    <tr>\n",
       "      <th>2</th>\n",
       "      <td>3</td>\n",
       "      <td>1</td>\n",
       "      <td>3</td>\n",
       "      <td>Heikkinen, Miss. Laina</td>\n",
       "      <td>26.0</td>\n",
       "      <td>0</td>\n",
       "      <td>0</td>\n",
       "      <td>7.9250</td>\n",
       "      <td>0</td>\n",
       "      <td>0.0</td>\n",
       "      <td>0.0</td>\n",
       "      <td>1.0</td>\n",
       "    </tr>\n",
       "    <tr>\n",
       "      <th>3</th>\n",
       "      <td>4</td>\n",
       "      <td>1</td>\n",
       "      <td>1</td>\n",
       "      <td>Futrelle, Mrs. Jacques Heath (Lily May Peel)</td>\n",
       "      <td>35.0</td>\n",
       "      <td>1</td>\n",
       "      <td>0</td>\n",
       "      <td>53.1000</td>\n",
       "      <td>0</td>\n",
       "      <td>0.0</td>\n",
       "      <td>0.0</td>\n",
       "      <td>1.0</td>\n",
       "    </tr>\n",
       "    <tr>\n",
       "      <th>4</th>\n",
       "      <td>5</td>\n",
       "      <td>0</td>\n",
       "      <td>3</td>\n",
       "      <td>Allen, Mr. William Henry</td>\n",
       "      <td>35.0</td>\n",
       "      <td>0</td>\n",
       "      <td>0</td>\n",
       "      <td>8.0500</td>\n",
       "      <td>1</td>\n",
       "      <td>0.0</td>\n",
       "      <td>0.0</td>\n",
       "      <td>1.0</td>\n",
       "    </tr>\n",
       "  </tbody>\n",
       "</table>\n",
       "</div>"
      ],
      "text/plain": [
       "   PassengerId  Survived  Pclass  \\\n",
       "0            1         0       3   \n",
       "1            2         1       1   \n",
       "2            3         1       3   \n",
       "3            4         1       1   \n",
       "4            5         0       3   \n",
       "\n",
       "                                                Name   Age  SibSp  Parch  \\\n",
       "0                            Braund, Mr. Owen Harris  22.0      1      0   \n",
       "1  Cumings, Mrs. John Bradley (Florence Briggs Th...  38.0      1      0   \n",
       "2                             Heikkinen, Miss. Laina  26.0      0      0   \n",
       "3       Futrelle, Mrs. Jacques Heath (Lily May Peel)  35.0      1      0   \n",
       "4                           Allen, Mr. William Henry  35.0      0      0   \n",
       "\n",
       "      Fare  male_gender    C    Q    S  \n",
       "0   7.2500            1  0.0  0.0  1.0  \n",
       "1  71.2833            0  1.0  0.0  0.0  \n",
       "2   7.9250            0  0.0  0.0  1.0  \n",
       "3  53.1000            0  0.0  0.0  1.0  \n",
       "4   8.0500            1  0.0  0.0  1.0  "
      ]
     },
     "execution_count": 20,
     "metadata": {},
     "output_type": "execute_result"
    }
   ],
   "source": [
    "# Concatenate our new var to the df\n",
    "train_dmy = pd.concat([train_df, gender_df,embarked_df], axis=1, verify_integrity=True)\n",
    "train_dmy[0:5]"
   ]
  },
  {
   "cell_type": "markdown",
   "id": "a0d69648",
   "metadata": {
    "papermill": {
     "duration": 0.048524,
     "end_time": "2022-01-26T00:21:06.262469",
     "exception": false,
     "start_time": "2022-01-26T00:21:06.213945",
     "status": "completed"
    },
    "tags": []
   },
   "source": [
    "#### Checking for independence between features"
   ]
  },
  {
   "cell_type": "code",
   "execution_count": 21,
   "id": "fc4690a9",
   "metadata": {
    "execution": {
     "iopub.execute_input": "2022-01-26T00:21:06.362145Z",
     "iopub.status.busy": "2022-01-26T00:21:06.361514Z",
     "iopub.status.idle": "2022-01-26T00:21:06.662127Z",
     "shell.execute_reply": "2022-01-26T00:21:06.661493Z",
     "shell.execute_reply.started": "2022-01-26T00:20:04.627133Z"
    },
    "papermill": {
     "duration": 0.351604,
     "end_time": "2022-01-26T00:21:06.662252",
     "exception": false,
     "start_time": "2022-01-26T00:21:06.310648",
     "status": "completed"
    },
    "tags": []
   },
   "outputs": [
    {
     "data": {
      "text/plain": [
       "<AxesSubplot:>"
      ]
     },
     "execution_count": 21,
     "metadata": {},
     "output_type": "execute_result"
    },
    {
     "data": {
      "image/png": "[encoded data removed]",
      "text/plain": [
       "<Figure size 360x288 with 2 Axes>"
      ]
     },
     "metadata": {
      "needs_background": "light"
     },
     "output_type": "display_data"
    }
   ],
   "source": [
    "# Heatmap from Seaborn bc is very easy to visualise the dependency with this tool\n",
    "sb.heatmap(train_dmy.corr())"
   ]
  },
  {
   "cell_type": "code",
   "execution_count": 22,
   "id": "745c8c30",
   "metadata": {
    "execution": {
     "iopub.execute_input": "2022-01-26T00:21:06.765065Z",
     "iopub.status.busy": "2022-01-26T00:21:06.764359Z",
     "iopub.status.idle": "2022-01-26T00:21:06.773768Z",
     "shell.execute_reply": "2022-01-26T00:21:06.774284Z",
     "shell.execute_reply.started": "2022-01-26T00:20:05.010308Z"
    },
    "papermill": {
     "duration": 0.063984,
     "end_time": "2022-01-26T00:21:06.774442",
     "exception": false,
     "start_time": "2022-01-26T00:21:06.710458",
     "status": "completed"
    },
    "tags": []
   },
   "outputs": [
    {
     "data": {
      "text/html": [
       "<div>\n",
       "<style scoped>\n",
       "    .dataframe tbody tr th:only-of-type {\n",
       "        vertical-align: middle;\n",
       "    }\n",
       "\n",
       "    .dataframe tbody tr th {\n",
       "        vertical-align: top;\n",
       "    }\n",
       "\n",
       "    .dataframe thead th {\n",
       "        text-align: right;\n",
       "    }\n",
       "</style>\n",
       "<table border=\"1\" class=\"dataframe\">\n",
       "  <thead>\n",
       "    <tr style=\"text-align: right;\">\n",
       "      <th></th>\n",
       "      <th>PassengerId</th>\n",
       "      <th>Survived</th>\n",
       "      <th>Name</th>\n",
       "      <th>Age</th>\n",
       "      <th>SibSp</th>\n",
       "      <th>Parch</th>\n",
       "      <th>male_gender</th>\n",
       "      <th>C</th>\n",
       "      <th>Q</th>\n",
       "      <th>S</th>\n",
       "    </tr>\n",
       "  </thead>\n",
       "  <tbody>\n",
       "    <tr>\n",
       "      <th>0</th>\n",
       "      <td>1</td>\n",
       "      <td>0</td>\n",
       "      <td>Braund, Mr. Owen Harris</td>\n",
       "      <td>22.0</td>\n",
       "      <td>1</td>\n",
       "      <td>0</td>\n",
       "      <td>1</td>\n",
       "      <td>0.0</td>\n",
       "      <td>0.0</td>\n",
       "      <td>1.0</td>\n",
       "    </tr>\n",
       "    <tr>\n",
       "      <th>1</th>\n",
       "      <td>2</td>\n",
       "      <td>1</td>\n",
       "      <td>Cumings, Mrs. John Bradley (Florence Briggs Th...</td>\n",
       "      <td>38.0</td>\n",
       "      <td>1</td>\n",
       "      <td>0</td>\n",
       "      <td>0</td>\n",
       "      <td>1.0</td>\n",
       "      <td>0.0</td>\n",
       "      <td>0.0</td>\n",
       "    </tr>\n",
       "    <tr>\n",
       "      <th>2</th>\n",
       "      <td>3</td>\n",
       "      <td>1</td>\n",
       "      <td>Heikkinen, Miss. Laina</td>\n",
       "      <td>26.0</td>\n",
       "      <td>0</td>\n",
       "      <td>0</td>\n",
       "      <td>0</td>\n",
       "      <td>0.0</td>\n",
       "      <td>0.0</td>\n",
       "      <td>1.0</td>\n",
       "    </tr>\n",
       "  </tbody>\n",
       "</table>\n",
       "</div>"
      ],
      "text/plain": [
       "   PassengerId  Survived                                               Name  \\\n",
       "0            1         0                            Braund, Mr. Owen Harris   \n",
       "1            2         1  Cumings, Mrs. John Bradley (Florence Briggs Th...   \n",
       "2            3         1                             Heikkinen, Miss. Laina   \n",
       "\n",
       "    Age  SibSp  Parch  male_gender    C    Q    S  \n",
       "0  22.0      1      0            1  0.0  0.0  1.0  \n",
       "1  38.0      1      0            0  1.0  0.0  0.0  \n",
       "2  26.0      0      0            0  0.0  0.0  1.0  "
      ]
     },
     "execution_count": 22,
     "metadata": {},
     "output_type": "execute_result"
    }
   ],
   "source": [
    "# Logistic Regression assumes that features are independent of one another, so we cannot have a corr that's close to one or negative one (meaning, strong linear relation)\n",
    "# What values are very light or very dark? We can see Fare and P-Class are not independent of one another so we drop them\n",
    "\n",
    "train_dmy.drop(['Fare','Pclass'], axis = 1, inplace=True) # axis = 1 bc we want to drop them as a column\n",
    "train_dmy.head(3)"
   ]
  },
  {
   "cell_type": "code",
   "execution_count": 23,
   "id": "c694b230",
   "metadata": {
    "execution": {
     "iopub.execute_input": "2022-01-26T00:21:06.876575Z",
     "iopub.status.busy": "2022-01-26T00:21:06.875969Z",
     "iopub.status.idle": "2022-01-26T00:21:06.882483Z",
     "shell.execute_reply": "2022-01-26T00:21:06.883030Z",
     "shell.execute_reply.started": "2022-01-26T00:20:05.029067Z"
    },
    "papermill": {
     "duration": 0.059553,
     "end_time": "2022-01-26T00:21:06.883199",
     "exception": false,
     "start_time": "2022-01-26T00:21:06.823646",
     "status": "completed"
    },
    "tags": []
   },
   "outputs": [],
   "source": [
    "def name_preprocess(name):\n",
    "    name_df = pd.DataFrame(index=name.index)\n",
    "\n",
    "    name_df[\"Title\"] = name.map(lambda x: x.split(', ')[1].split('. ')[0])\n",
    "    name_df['Title'].replace(['Capt', 'Col', 'Major', 'Dr', 'Rev'], 'Officer', inplace=True)\n",
    "    name_df['Title'].replace(['Don', 'Sir',  'the Countess', 'Lady', 'Dona'], 'Royalty', inplace=True)\n",
    "    name_df['Title'].replace(['Mme', 'Ms','Mlle'], 'Civil(Mrs/Miss)', inplace=True) # We already know the gender, there is no need of having 2 cols\n",
    "    name_df['Title'].replace(['Jonkheer'], 'Master', inplace=True)\n",
    "\n",
    "    Surname = name.map(lambda name:name.split(',')[0].strip())\n",
    "    count_df_over2 = Surname.value_counts().to_frame()\n",
    "    count_df_over2 = count_df_over2[count_df_over2[\"Name\"]>1]\n",
    "    name_df['Family_flag'] = Surname.map(lambda x:1 if x in list(count_df_over2.index) else 0)\n",
    "    name_df = pd.get_dummies(name_df)\n",
    "    return name_df"
   ]
  },
  {
   "cell_type": "code",
   "execution_count": 24,
   "id": "bd017102",
   "metadata": {
    "execution": {
     "iopub.execute_input": "2022-01-26T00:21:06.985247Z",
     "iopub.status.busy": "2022-01-26T00:21:06.984644Z",
     "iopub.status.idle": "2022-01-26T00:21:07.021068Z",
     "shell.execute_reply": "2022-01-26T00:21:07.020517Z",
     "shell.execute_reply.started": "2022-01-26T00:20:05.040092Z"
    },
    "papermill": {
     "duration": 0.088977,
     "end_time": "2022-01-26T00:21:07.021200",
     "exception": false,
     "start_time": "2022-01-26T00:21:06.932223",
     "status": "completed"
    },
    "tags": []
   },
   "outputs": [
    {
     "data": {
      "text/html": [
       "<div>\n",
       "<style scoped>\n",
       "    .dataframe tbody tr th:only-of-type {\n",
       "        vertical-align: middle;\n",
       "    }\n",
       "\n",
       "    .dataframe tbody tr th {\n",
       "        vertical-align: top;\n",
       "    }\n",
       "\n",
       "    .dataframe thead th {\n",
       "        text-align: right;\n",
       "    }\n",
       "</style>\n",
       "<table border=\"1\" class=\"dataframe\">\n",
       "  <thead>\n",
       "    <tr style=\"text-align: right;\">\n",
       "      <th></th>\n",
       "      <th>PassengerId</th>\n",
       "      <th>Survived</th>\n",
       "      <th>Age</th>\n",
       "      <th>SibSp</th>\n",
       "      <th>Parch</th>\n",
       "      <th>male_gender</th>\n",
       "      <th>C</th>\n",
       "      <th>Q</th>\n",
       "      <th>S</th>\n",
       "      <th>Family_flag</th>\n",
       "      <th>Title_Civil(Mrs/Miss)</th>\n",
       "      <th>Title_Master</th>\n",
       "      <th>Title_Miss</th>\n",
       "      <th>Title_Mr</th>\n",
       "      <th>Title_Mrs</th>\n",
       "      <th>Title_Officer</th>\n",
       "      <th>Title_Royalty</th>\n",
       "    </tr>\n",
       "  </thead>\n",
       "  <tbody>\n",
       "    <tr>\n",
       "      <th>0</th>\n",
       "      <td>1</td>\n",
       "      <td>0</td>\n",
       "      <td>22.0</td>\n",
       "      <td>1</td>\n",
       "      <td>0</td>\n",
       "      <td>1</td>\n",
       "      <td>0.0</td>\n",
       "      <td>0.0</td>\n",
       "      <td>1.0</td>\n",
       "      <td>1</td>\n",
       "      <td>0</td>\n",
       "      <td>0</td>\n",
       "      <td>0</td>\n",
       "      <td>1</td>\n",
       "      <td>0</td>\n",
       "      <td>0</td>\n",
       "      <td>0</td>\n",
       "    </tr>\n",
       "    <tr>\n",
       "      <th>1</th>\n",
       "      <td>2</td>\n",
       "      <td>1</td>\n",
       "      <td>38.0</td>\n",
       "      <td>1</td>\n",
       "      <td>0</td>\n",
       "      <td>0</td>\n",
       "      <td>1.0</td>\n",
       "      <td>0.0</td>\n",
       "      <td>0.0</td>\n",
       "      <td>0</td>\n",
       "      <td>0</td>\n",
       "      <td>0</td>\n",
       "      <td>0</td>\n",
       "      <td>0</td>\n",
       "      <td>1</td>\n",
       "      <td>0</td>\n",
       "      <td>0</td>\n",
       "    </tr>\n",
       "    <tr>\n",
       "      <th>2</th>\n",
       "      <td>3</td>\n",
       "      <td>1</td>\n",
       "      <td>26.0</td>\n",
       "      <td>0</td>\n",
       "      <td>0</td>\n",
       "      <td>0</td>\n",
       "      <td>0.0</td>\n",
       "      <td>0.0</td>\n",
       "      <td>1.0</td>\n",
       "      <td>0</td>\n",
       "      <td>0</td>\n",
       "      <td>0</td>\n",
       "      <td>1</td>\n",
       "      <td>0</td>\n",
       "      <td>0</td>\n",
       "      <td>0</td>\n",
       "      <td>0</td>\n",
       "    </tr>\n",
       "    <tr>\n",
       "      <th>3</th>\n",
       "      <td>4</td>\n",
       "      <td>1</td>\n",
       "      <td>35.0</td>\n",
       "      <td>1</td>\n",
       "      <td>0</td>\n",
       "      <td>0</td>\n",
       "      <td>0.0</td>\n",
       "      <td>0.0</td>\n",
       "      <td>1.0</td>\n",
       "      <td>1</td>\n",
       "      <td>0</td>\n",
       "      <td>0</td>\n",
       "      <td>0</td>\n",
       "      <td>0</td>\n",
       "      <td>1</td>\n",
       "      <td>0</td>\n",
       "      <td>0</td>\n",
       "    </tr>\n",
       "  </tbody>\n",
       "</table>\n",
       "</div>"
      ],
      "text/plain": [
       "   PassengerId  Survived   Age  SibSp  Parch  male_gender    C    Q    S  \\\n",
       "0            1         0  22.0      1      0            1  0.0  0.0  1.0   \n",
       "1            2         1  38.0      1      0            0  1.0  0.0  0.0   \n",
       "2            3         1  26.0      0      0            0  0.0  0.0  1.0   \n",
       "3            4         1  35.0      1      0            0  0.0  0.0  1.0   \n",
       "\n",
       "   Family_flag  Title_Civil(Mrs/Miss)  Title_Master  Title_Miss  Title_Mr  \\\n",
       "0            1                      0             0           0         1   \n",
       "1            0                      0             0           0         0   \n",
       "2            0                      0             0           1         0   \n",
       "3            1                      0             0           0         0   \n",
       "\n",
       "   Title_Mrs  Title_Officer  Title_Royalty  \n",
       "0          0              0              0  \n",
       "1          1              0              0  \n",
       "2          0              0              0  \n",
       "3          1              0              0  "
      ]
     },
     "execution_count": 24,
     "metadata": {},
     "output_type": "execute_result"
    }
   ],
   "source": [
    "df_Name = name_preprocess(train_dmy[\"Name\"])\n",
    "train_dmy = pd.concat([train_dmy, df_Name],axis=1)\n",
    "train_dmy = train_dmy.drop(\"Name\",axis=1)\n",
    "train_dmy.head(4)"
   ]
  },
  {
   "cell_type": "code",
   "execution_count": 25,
   "id": "04f491ba",
   "metadata": {
    "execution": {
     "iopub.execute_input": "2022-01-26T00:21:07.124045Z",
     "iopub.status.busy": "2022-01-26T00:21:07.123403Z",
     "iopub.status.idle": "2022-01-26T00:21:07.130817Z",
     "shell.execute_reply": "2022-01-26T00:21:07.131408Z",
     "shell.execute_reply.started": "2022-01-26T00:20:05.101737Z"
    },
    "papermill": {
     "duration": 0.06002,
     "end_time": "2022-01-26T00:21:07.131589",
     "exception": false,
     "start_time": "2022-01-26T00:21:07.071569",
     "status": "completed"
    },
    "tags": []
   },
   "outputs": [],
   "source": [
    "# Time for a Logistic Regression\n",
    "# We drop \"survived\" bc is what we are actually trying to predict\n",
    "X_train, X_test, y_train, y_test = train_test_split(train_dmy.drop('Survived', axis=1),\n",
    "                                                   train_dmy['Survived'], test_size=0.2,\n",
    "                                                   random_state=200)"
   ]
  },
  {
   "cell_type": "code",
   "execution_count": 26,
   "id": "3aee8ca8",
   "metadata": {
    "execution": {
     "iopub.execute_input": "2022-01-26T00:21:07.236332Z",
     "iopub.status.busy": "2022-01-26T00:21:07.235534Z",
     "iopub.status.idle": "2022-01-26T00:21:07.240732Z",
     "shell.execute_reply": "2022-01-26T00:21:07.240144Z",
     "shell.execute_reply.started": "2022-01-26T00:20:05.112691Z"
    },
    "papermill": {
     "duration": 0.058919,
     "end_time": "2022-01-26T00:21:07.240911",
     "exception": false,
     "start_time": "2022-01-26T00:21:07.181992",
     "status": "completed"
    },
    "tags": []
   },
   "outputs": [
    {
     "name": "stdout",
     "output_type": "stream",
     "text": [
      "(711, 16)\n",
      "(711,)\n"
     ]
    }
   ],
   "source": [
    "print(X_train.shape)\n",
    "print(y_train.shape)"
   ]
  },
  {
   "cell_type": "markdown",
   "id": "e31fed79",
   "metadata": {
    "papermill": {
     "duration": 0.050897,
     "end_time": "2022-01-26T00:21:07.343037",
     "exception": false,
     "start_time": "2022-01-26T00:21:07.292140",
     "status": "completed"
    },
    "tags": []
   },
   "source": [
    "#### Deploying and evaluating the model"
   ]
  },
  {
   "cell_type": "code",
   "execution_count": 27,
   "id": "8c3d8b48",
   "metadata": {
    "execution": {
     "iopub.execute_input": "2022-01-26T00:21:07.447925Z",
     "iopub.status.busy": "2022-01-26T00:21:07.447097Z",
     "iopub.status.idle": "2022-01-26T00:21:07.458532Z",
     "shell.execute_reply": "2022-01-26T00:21:07.459167Z",
     "shell.execute_reply.started": "2022-01-26T00:20:05.126428Z"
    },
    "papermill": {
     "duration": 0.065344,
     "end_time": "2022-01-26T00:21:07.459334",
     "exception": false,
     "start_time": "2022-01-26T00:21:07.393990",
     "status": "completed"
    },
    "tags": []
   },
   "outputs": [
    {
     "data": {
      "text/plain": [
       "LogisticRegression(solver='liblinear')"
      ]
     },
     "execution_count": 27,
     "metadata": {},
     "output_type": "execute_result"
    }
   ],
   "source": [
    "logreg = LogisticRegression(solver='liblinear')\n",
    "logreg.fit(X_train,y_train)"
   ]
  },
  {
   "cell_type": "code",
   "execution_count": 28,
   "id": "a43ed8ba",
   "metadata": {
    "execution": {
     "iopub.execute_input": "2022-01-26T00:21:07.567256Z",
     "iopub.status.busy": "2022-01-26T00:21:07.566383Z",
     "iopub.status.idle": "2022-01-26T00:21:07.570683Z",
     "shell.execute_reply": "2022-01-26T00:21:07.571194Z",
     "shell.execute_reply.started": "2022-01-26T00:20:05.150710Z"
    },
    "papermill": {
     "duration": 0.059589,
     "end_time": "2022-01-26T00:21:07.571355",
     "exception": false,
     "start_time": "2022-01-26T00:21:07.511766",
     "status": "completed"
    },
    "tags": []
   },
   "outputs": [],
   "source": [
    "y_pred = logreg.predict(X_test)"
   ]
  },
  {
   "cell_type": "markdown",
   "id": "f8aa341b",
   "metadata": {
    "papermill": {
     "duration": 0.050379,
     "end_time": "2022-01-26T00:21:07.672285",
     "exception": false,
     "start_time": "2022-01-26T00:21:07.621906",
     "status": "completed"
    },
    "tags": []
   },
   "source": [
    "### Model Evalutation\n",
    "#### Classification report w/o cross-validation"
   ]
  },
  {
   "cell_type": "code",
   "execution_count": 29,
   "id": "33c726fb",
   "metadata": {
    "execution": {
     "iopub.execute_input": "2022-01-26T00:21:07.781840Z",
     "iopub.status.busy": "2022-01-26T00:21:07.781149Z",
     "iopub.status.idle": "2022-01-26T00:21:07.788291Z",
     "shell.execute_reply": "2022-01-26T00:21:07.787233Z",
     "shell.execute_reply.started": "2022-01-26T00:20:05.161184Z"
    },
    "papermill": {
     "duration": 0.065529,
     "end_time": "2022-01-26T00:21:07.788555",
     "exception": false,
     "start_time": "2022-01-26T00:21:07.723026",
     "status": "completed"
    },
    "tags": []
   },
   "outputs": [
    {
     "name": "stdout",
     "output_type": "stream",
     "text": [
      "              precision    recall  f1-score   support\n",
      "\n",
      "           0       0.86      0.90      0.88       109\n",
      "           1       0.83      0.77      0.80        69\n",
      "\n",
      "    accuracy                           0.85       178\n",
      "   macro avg       0.84      0.83      0.84       178\n",
      "weighted avg       0.85      0.85      0.85       178\n",
      "\n"
     ]
    }
   ],
   "source": [
    "print(classification_report(y_test,y_pred))"
   ]
  },
  {
   "cell_type": "markdown",
   "id": "8c9622cf",
   "metadata": {
    "papermill": {
     "duration": 0.051504,
     "end_time": "2022-01-26T00:21:07.892058",
     "exception": false,
     "start_time": "2022-01-26T00:21:07.840554",
     "status": "completed"
    },
    "tags": []
   },
   "source": [
    "#### K-fold cross-validation & confusion matrix"
   ]
  },
  {
   "cell_type": "code",
   "execution_count": 30,
   "id": "3f41d38b",
   "metadata": {
    "execution": {
     "iopub.execute_input": "2022-01-26T00:21:07.999605Z",
     "iopub.status.busy": "2022-01-26T00:21:07.998934Z",
     "iopub.status.idle": "2022-01-26T00:21:08.032513Z",
     "shell.execute_reply": "2022-01-26T00:21:08.033147Z",
     "shell.execute_reply.started": "2022-01-26T00:20:05.179032Z"
    },
    "papermill": {
     "duration": 0.090056,
     "end_time": "2022-01-26T00:21:08.033314",
     "exception": false,
     "start_time": "2022-01-26T00:21:07.943258",
     "status": "completed"
    },
    "tags": []
   },
   "outputs": [
    {
     "data": {
      "text/plain": [
       "array([[384,  56],\n",
       "       [ 77, 194]])"
      ]
     },
     "execution_count": 30,
     "metadata": {},
     "output_type": "execute_result"
    }
   ],
   "source": [
    "y_train_pred = cross_val_predict(logreg, X_train, y_train, cv=5)\n",
    "confusion_matrix(y_train, y_train_pred)"
   ]
  },
  {
   "cell_type": "markdown",
   "id": "c195a62d",
   "metadata": {
    "papermill": {
     "duration": 0.052243,
     "end_time": "2022-01-26T00:21:08.138234",
     "exception": false,
     "start_time": "2022-01-26T00:21:08.085991",
     "status": "completed"
    },
    "tags": []
   },
   "source": [
    "We get 384 / 194 correct predictions and 77 / 56 incorrect predictions"
   ]
  },
  {
   "cell_type": "code",
   "execution_count": 31,
   "id": "edf38fba",
   "metadata": {
    "execution": {
     "iopub.execute_input": "2022-01-26T00:21:08.247392Z",
     "iopub.status.busy": "2022-01-26T00:21:08.246534Z",
     "iopub.status.idle": "2022-01-26T00:21:08.251070Z",
     "shell.execute_reply": "2022-01-26T00:21:08.251656Z",
     "shell.execute_reply.started": "2022-01-26T00:20:05.222349Z"
    },
    "papermill": {
     "duration": 0.06203,
     "end_time": "2022-01-26T00:21:08.251821",
     "exception": false,
     "start_time": "2022-01-26T00:21:08.189791",
     "status": "completed"
    },
    "tags": []
   },
   "outputs": [
    {
     "data": {
      "text/plain": [
       "0.776"
      ]
     },
     "execution_count": 31,
     "metadata": {},
     "output_type": "execute_result"
    }
   ],
   "source": [
    "precision_score(y_train, y_train_pred)"
   ]
  },
  {
   "cell_type": "markdown",
   "id": "3077fdee",
   "metadata": {
    "papermill": {
     "duration": 0.051193,
     "end_time": "2022-01-26T00:21:08.354796",
     "exception": false,
     "start_time": "2022-01-26T00:21:08.303603",
     "status": "completed"
    },
    "tags": []
   },
   "source": [
    "## Ensemble Learning\n",
    "##### Train different models on the same dataset"
   ]
  },
  {
   "cell_type": "code",
   "execution_count": 32,
   "id": "e5659ca7",
   "metadata": {
    "execution": {
     "iopub.execute_input": "2022-01-26T00:21:08.462184Z",
     "iopub.status.busy": "2022-01-26T00:21:08.461370Z",
     "iopub.status.idle": "2022-01-26T00:21:08.465013Z",
     "shell.execute_reply": "2022-01-26T00:21:08.465530Z",
     "shell.execute_reply.started": "2022-01-26T00:20:05.234225Z"
    },
    "papermill": {
     "duration": 0.059303,
     "end_time": "2022-01-26T00:21:08.465705",
     "exception": false,
     "start_time": "2022-01-26T00:21:08.406402",
     "status": "completed"
    },
    "tags": []
   },
   "outputs": [],
   "source": [
    "# Voting Classifier (same trainset, different algorithm)\n",
    "# N classifiers make P predictions\n",
    "# from sklearn.ensamble import VotingClassifier"
   ]
  },
  {
   "cell_type": "code",
   "execution_count": 33,
   "id": "c6c6c747",
   "metadata": {
    "execution": {
     "iopub.execute_input": "2022-01-26T00:21:08.571817Z",
     "iopub.status.busy": "2022-01-26T00:21:08.571024Z",
     "iopub.status.idle": "2022-01-26T00:21:08.573715Z",
     "shell.execute_reply": "2022-01-26T00:21:08.574305Z",
     "shell.execute_reply.started": "2022-01-26T00:20:05.242007Z"
    },
    "papermill": {
     "duration": 0.057273,
     "end_time": "2022-01-26T00:21:08.574450",
     "exception": false,
     "start_time": "2022-01-26T00:21:08.517177",
     "status": "completed"
    },
    "tags": []
   },
   "outputs": [],
   "source": [
    "SEED = 1\n",
    "lr = LogisticRegression()"
   ]
  }
 ],
 "metadata": {
  "kernelspec": {
   "display_name": "Python 3",
   "language": "python",
   "name": "python3"
  },
  "language_info": {
   "codemirror_mode": {
    "name": "ipython",
    "version": 3
   },
   "file_extension": ".py",
   "mimetype": "text/x-python",
   "name": "python",
   "nbconvert_exporter": "python",
   "pygments_lexer": "ipython3",
   "version": "3.7.12"
  },
  "papermill": {
   "default_parameters": {},
   "duration": 15.92458,
   "end_time": "2022-01-26T00:21:09.335760",
   "environment_variables": {},
   "exception": null,
   "input_path": "__notebook__.ipynb",
   "output_path": "__notebook__.ipynb",
   "parameters": {},
   "start_time": "2022-01-26T00:20:53.411180",
   "version": "2.3.3"
  }
 },
 "nbformat": 4,
 "nbformat_minor": 5
}
